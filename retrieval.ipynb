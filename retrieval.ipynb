{
 "cells": [
  {
   "cell_type": "markdown",
   "metadata": {},
   "source": [
    "## Get stuff from arXiv"
   ]
  },
  {
   "cell_type": "code",
   "execution_count": null,
   "metadata": {},
   "outputs": [],
   "source": [
    "# From the arXiv API : use python to retrieve \n",
    "    import urllib, urllib.request\n",
    "    url = 'https://arxiv.org/abs/1705.02315'\n",
    "    data = urllib.request.urlopen(url)\n",
    "    print(data.read().decode('utf-8'))\n"
   ]
  },
  {
   "cell_type": "code",
   "execution_count": 13,
   "metadata": {},
   "outputs": [],
   "source": [
    "# from https://pypi.org/project/arxiv/\n",
    "\n",
    "import arxiv\n",
    "\n",
    "client = arxiv.Client()\n",
    "\n",
    "search_by_id = arxiv.Search(id_list = ['2309.11838'])\n",
    "sample = next(client.results(search_by_id))"
   ]
  },
  {
   "cell_type": "code",
   "execution_count": 19,
   "metadata": {},
   "outputs": [
    {
     "data": {
      "text/plain": [
       "'retrieved_data/main_doc.pdf'"
      ]
     },
     "execution_count": 19,
     "metadata": {},
     "output_type": "execute_result"
    }
   ],
   "source": [
    "sample, sample.title\n",
    "sample.download_pdf(filename='main_doc.pdf', dirpath = 'retrieved_data')"
   ]
  },
  {
   "cell_type": "code",
   "execution_count": 21,
   "metadata": {},
   "outputs": [],
   "source": [
    "search = arxiv.Search(\n",
    "    query= 'Pranav Rajpurkar, Jian Zhang, Konstantin Lopyrev, and \\\n",
    "        Percy Liang. 2016. SQuAD: 100,000+ questions for\\\n",
    "        machine comprehension of text. In Proceedings of\\\n",
    "        the 2016 Conference on Empirical Methods in Natu-\\\n",
    "        ral Language Processing, pages 2383–2392, Austin,\\\n",
    "        Texas. Association for Computational Linguistics.', \n",
    "    max_results = 3,\n",
    "    )"
   ]
  },
  {
   "cell_type": "code",
   "execution_count": 29,
   "metadata": {},
   "outputs": [
    {
     "data": {
      "text/plain": [
       "'retrieved_data/doc1.pdf'"
      ]
     },
     "execution_count": 29,
     "metadata": {},
     "output_type": "execute_result"
    }
   ],
   "source": [
    "next(client.results(search)).download_pdf(filename='doc1.pdf', dirpath='retrieved_data')"
   ]
  },
  {
   "cell_type": "markdown",
   "metadata": {},
   "source": [
    "### Get text from PDFs"
   ]
  }
 ],
 "metadata": {
  "kernelspec": {
   "display_name": "base",
   "language": "python",
   "name": "python3"
  },
  "language_info": {
   "codemirror_mode": {
    "name": "ipython",
    "version": 3
   },
   "file_extension": ".py",
   "mimetype": "text/x-python",
   "name": "python",
   "nbconvert_exporter": "python",
   "pygments_lexer": "ipython3",
   "version": "3.11.0"
  }
 },
 "nbformat": 4,
 "nbformat_minor": 2
}

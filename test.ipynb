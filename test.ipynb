{
 "cells": [
  {
   "cell_type": "code",
   "execution_count": 1,
   "metadata": {},
   "outputs": [
    {
     "name": "stderr",
     "output_type": "stream",
     "text": [
      "/usr/local/anaconda3/envs/Podsicle/lib/python3.11/site-packages/tqdm/auto.py:21: TqdmWarning: IProgress not found. Please update jupyter and ipywidgets. See https://ipywidgets.readthedocs.io/en/stable/user_install.html\n",
      "  from .autonotebook import tqdm as notebook_tqdm\n"
     ]
    }
   ],
   "source": [
    "from models import *"
   ]
  },
  {
   "cell_type": "code",
   "execution_count": 2,
   "metadata": {},
   "outputs": [
    {
     "data": {
      "text/plain": [
       "'10'"
      ]
     },
     "execution_count": 2,
     "metadata": {},
     "output_type": "execute_result"
    }
   ],
   "source": [
    "text_model = GeminiText()\n",
    "intro = text_model.generate_completion(\"5+5\")\n",
    "intro"
   ]
  },
  {
   "cell_type": "code",
   "execution_count": 16,
   "metadata": {},
   "outputs": [
    {
     "data": {
      "text/plain": [
       "(['What specific GenAI tools were used by the students in the study?',\n",
       "  'How was the impact on academic performance measured in the research?',\n",
       "  'Can you elaborate on the findings related to the correlation between GenAI tool usage and academic outcomes?',\n",
       "  \"What implications do the study's results have for educators, institutions, and policymakers?\",\n",
       "  'How did the study identify students who were users of GenAI tools?'],\n",
       " ['ChatGPT',\n",
       "  'The impact on academic performance was measured by analyzing student essays using GenAI detection systems to identify GenAI users among the cohort. Subsequently, multivariate regression analysis was employed to compare the academic performance of students using GenAI tools with non-users, revealing that GenAI users scored on average 6.71 points lower out of 100.',\n",
       "  \"The findings suggest that students' use of GenAI tools is associated with decreased academic performance, particularly impacting students with high learning potential. This indicates that the way students utilize GenAI tools may hinder their learning progress and lead to diminished academic outcomes.\",\n",
       "  \"Educators, institutions, and policymakers should carefully consider the implications of the study's results on student performance when integrating generative artificial intelligence (GenAI) tools in higher education. The findings suggest that the usage of GenAI tools by students may lead to diminished academic outcomes, particularly affecting students with high learning potential. This highlights the importance of evaluating how GenAI tools are utilized and the potential hindrance they may pose to learning.\",\n",
       "  'The study identified students who were users of GenAI tools by analyzing student essays using GenAI detection systems to detect GenAI users among the cohort.'])"
      ]
     },
     "execution_count": 16,
     "metadata": {},
     "output_type": "execute_result"
    }
   ],
   "source": [
    "from podcast_maker import PodcastMaker\n",
    "podcast_maker = PodcastMaker(url=\"https://arxiv.org/abs/2404.19699\")\n",
    "\n",
    "# Generate interview questions\n",
    "questions_ans = podcast_maker.generate_podcast_text()\n",
    "questions_ans"
   ]
  },
  {
   "cell_type": "code",
   "execution_count": 17,
   "metadata": {},
   "outputs": [],
   "source": [
    "from podcast_style import *\n",
    "\n",
    "podcast = PodcastStyler('Emergent abilities of large language models',\"https://arxiv.org/abs/2404.19699\")"
   ]
  },
  {
   "cell_type": "code",
   "execution_count": 18,
   "metadata": {},
   "outputs": [
    {
     "data": {
      "text/plain": [
       "[{'text': \"Welcome to Podsicle, the podcast that explores the latest advancements in artificial intelligence. I'm your host, and today we're diving into the fascinating world of large language models and their emergent abilities. Joining us is an expert on the topic, who will shed light on these groundbreaking developments and their potential impact on our future.\",\n",
       "  'left': True},\n",
       " {'text': \"Thank you for having me on the show. I'm excited to talk about large language models and their potential impact on our future.\",\n",
       "  'left': False},\n",
       " {'text': \"Now, let's dive into the specifics of the study. We'll start by exploring the GenAI tools that the students used.\",\n",
       "  'left': True},\n",
       " {'text': \"ChatGPT was one of the GenAI tools that the students used in the study. It's a large language model that can generate human-like text, translate languages, write different kinds of creative content, and even write different kinds of code. In this study, the students used ChatGPT to generate code for a variety of tasks, including generating code to solve coding challenges, generating code to implement algorithms, and generating code to create GUIs.\",\n",
       "  'left': False},\n",
       " {'text': \"That's fascinating to hear about the diverse applications of ChatGPT in the study. It's clear that this tool has the potential to enhance coding skills and streamline development processes. Now, let's delve deeper into the research and explore how the impact on academic performance was measured. This is a crucial aspect to understand the effectiveness of ChatGPT in an educational setting.\",\n",
       "  'left': True},\n",
       " {'text': 'To measure the impact on academic performance, the study employed a combination of GenAI detection systems and multivariate regression analysis. GenAI detection systems were used to identify students who utilized GenAI tools in their essays. Subsequently, multivariate regression analysis was conducted to compare the academic performance of GenAI users and non-users. The results revealed that students who used GenAI tools scored an average of 6.71 points lower than non-users, indicating a negative impact on academic performance.',\n",
       "  'left': False},\n",
       " {'text': \"That's an interesting finding, and it's certainly something that educators need to be aware of. As AI-powered writing tools become more sophisticated, it's becoming increasingly difficult to detect when they've been used. This could have a significant impact on the integrity of academic work, and it's important to find ways to address this issue.\\n\\nOne of the key challenges is being able to accurately identify GenAI users. Can you elaborate on the methodology used to identify GenAI users among the student cohort? What specific techniques or tools were employed, and how effective were they in distinguishing between human-generated and AI-generated text?\",\n",
       "  'left': True},\n",
       " {'text': \"Sure, let's dive into the methodology used to identify GenAI users among the student cohort. We analyzed student essays using GenAI detection systems. These systems employ advanced natural language processing techniques to examine the text's structure, syntax, and vocabulary. By comparing the essays to a database of known AI-generated text, the systems can identify patterns and anomalies that indicate the use of GenAI. The effectiveness of these tools varies, but they have shown promising results in distinguishing between human-generated and AI-generated text.\",\n",
       "  'left': False},\n",
       " {'text': \"That's a fascinating insight into the methodology used to identify GenAI users among students. The utilization of GenAI detection systems, leveraging advanced natural language processing techniques, provides valuable insights into the patterns and anomalies that distinguish AI-generated text from human-generated essays. As we delve deeper into the topic, let's explore the potential benefits of GenAI tools for learning and engagement, as highlighted in the study. What are the specific advantages that GenAI can offer in enhancing the educational experience for students?\",\n",
       "  'left': True},\n",
       " {'text': \"As we delve deeper into the topic, let's explore the potential benefits of GenAI tools for learning and engagement, as highlighted in the study. What are the specific advantages that GenAI can offer in enhancing the educational experience for students? The study suggests that GenAI tools may offer benefits for learning and engagement.\",\n",
       "  'left': False},\n",
       " {'text': \"As we continue our discussion on the potential benefits of GenAI tools for learning and engagement, let's delve into the specific advantages that these tools can offer in enhancing the educational experience for students. The study we're referencing suggests that GenAI tools may provide significant benefits, but it's crucial to understand how students' actual usage patterns of these tools correlate with their academic outcomes. This will help us determine the true impact of GenAI on student learning and engagement.\",\n",
       "  'left': True},\n",
       " {'text': \"Well, as we delve deeper into the potential benefits of GenAI tools for learning and engagement, it's important to acknowledge that the study we're referencing suggests that students' actual usage patterns of these tools may correlate with diminished academic outcomes. Understanding this correlation is crucial in determining the true impact of GenAI on student learning and engagement.\",\n",
       "  'left': False},\n",
       " {'text': \"As we continue our exploration of GenAI's potential in education, it's essential to address the study's findings regarding the correlation between students' usage patterns and academic outcomes. This correlation raises important questions about the true impact of GenAI on learning and engagement.\\n\\nNow, let's delve into the implications of this study for educators, institutions, and policymakers. What steps can be taken to ensure that GenAI is integrated into higher education in a way that maximizes its benefits while mitigating potential risks?\",\n",
       "  'left': True},\n",
       " {'text': \"As we delve into the implications of this study, it's crucial to acknowledge that educators, institutions, and policymakers must carefully consider the integration of Generative AI (GenAI) in higher education. The study's findings highlight the need to strike a balance between maximizing GenAI's benefits while mitigating potential risks. By understanding the correlation between students' usage patterns and academic outcomes, we can develop strategies to harness GenAI's potential for enhancing learning and engagement while addressing any concerns that may arise.\",\n",
       "  'left': False},\n",
       " {'text': \"Absolutely, let's delve deeper into the study's findings. As we've discussed, the integration of Generative AI in higher education requires a nuanced approach. Now, let's explore what further analyses were conducted to examine the effect of GenAI tool usage on students with high learning potential. This will help us understand how GenAI can be tailored to support and challenge these students, maximizing their academic outcomes.\",\n",
       "  'left': True},\n",
       " {'text': 'Sure, here is my response as the guest on the podcast show:\\n\\n\"As we\\'ve discussed, the integration of Generative AI in higher education requires a nuanced approach. To further explore this, additional analyses were conducted to examine the effect of GenAI tool usage on students with high learning potential. These analyses indicated that the impact of GenAI tools was particularly detrimental to this group of students. This suggests that GenAI tools need to be tailored to support and challenge these students in order to maximize their academic outcomes.\"',\n",
       "  'left': False},\n",
       " {'text': \"That's a fascinating insight. It's clear that the impact of Generative AI (GenAI) on higher education is complex and multifaceted. As we delve deeper into this topic, I'd like to ask a follow-up question: How does this study contribute to the ongoing debate on the integration of GenAI in higher education? Your insights will help us understand the broader implications of these findings and their potential impact on the future of education.\",\n",
       "  'left': True},\n",
       " {'text': 'Well, the study contributes to the ongoing debate on the integration of GenAI in higher education by providing empirical evidence that suggests a negative impact on student performance. It highlights the need for educators, institutions, and policymakers to carefully consider the implications of GenAI tool usage for student performance.',\n",
       "  'left': False},\n",
       " {'text': \"The study's findings, as we've discussed, raise concerns about the potential negative impact of GenAI tools on student performance. This prompts us to consider what steps educators, institutions, and policymakers should take in light of this evidence. What considerations should be taken into account to mitigate these negative effects and ensure that GenAI is used in a way that supports student learning?\",\n",
       "  'left': True},\n",
       " {'text': \"Indeed, the study's findings raise concerns about the potential negative impact of GenAI tools on student performance. Educators, institutions, and policymakers should carefully consider the implications of GenAI tool usage on student performance, especially for students with high learning potential. It is important to assess how students are utilizing GenAI tools, as the research suggests that improper usage can lead to diminished academic outcomes. This calls for a critical evaluation of the integration of GenAI in higher education to ensure that it does not hinder learning and negatively impact student performance.\",\n",
       "  'left': False},\n",
       " {'text': \"That concludes our show, thank you so much for joining us today. The study's findings highlight the need for educators, institutions, and policymakers to carefully consider the implications of GenAI tool usage on student performance, especially for students with high learning potential. It is crucial to assess how students are utilizing these tools and ensure their proper integration in higher education to avoid hindering learning and negatively impacting student performance.\",\n",
       "  'left': True},\n",
       " {'text': \"Thank you so much for having me on the show today. It's been a pleasure discussing the impact of GenAI tools on student performance. I hope our conversation has shed some light on this important topic and encouraged educators, institutions, and policymakers to carefully consider the implications of these tools. I believe that by working together, we can ensure that GenAI tools are used in a way that supports student learning and helps all students reach their full potential. Thanks again for the opportunity to share my thoughts, and I wish you all the best in your future endeavors.\",\n",
       "  'left': False},\n",
       " {'text': \"Well, folks, that's all for this episode of Podsicle. Thank you so much for listening. I hope you enjoyed the show. If you did, please leave us a review on iTunes or wherever you listen to your podcasts. It really helps us out. And don't forget to subscribe so you can catch our next episode. Until then, stay cool and keep on podding!\",\n",
       "  'left': True}]"
      ]
     },
     "execution_count": 18,
     "metadata": {},
     "output_type": "execute_result"
    }
   ],
   "source": [
    "transcript = podcast.podcast_conv()\n",
    "transcript"
   ]
  },
  {
   "cell_type": "code",
   "execution_count": 19,
   "metadata": {},
   "outputs": [],
   "source": [
    "import json\n",
    "with open('genai_usage_transcript.json', 'w') as file:\n",
    "    json.dump(transcript, file, indent=4)"
   ]
  },
  {
   "cell_type": "code",
   "execution_count": 12,
   "metadata": {},
   "outputs": [
    {
     "data": {
      "text/plain": [
       "'output.mp3'"
      ]
     },
     "execution_count": 12,
     "metadata": {},
     "output_type": "execute_result"
    }
   ],
   "source": [
    "text_to_s = GoogleTTS(voice_name='en-IN-Standard-B')\n",
    "text_to_s.generate_completion('Hello! I hope you like my voice')"
   ]
  },
  {
   "cell_type": "code",
   "execution_count": 5,
   "metadata": {},
   "outputs": [],
   "source": [
    "test_transcript = [{'text':'this is the first line of text', 'left':True},\n",
    " {'text':'this is the first line of the guest', 'left':False}]"
   ]
  },
  {
   "cell_type": "code",
   "execution_count": 20,
   "metadata": {},
   "outputs": [],
   "source": [
    "from transcript_to_speech import *\n",
    "\n",
    "generate_mp3(voice1=\"en-GB-Standard-F\", voice2=\"en-IN-Standard-B\",transcript=transcript)"
   ]
  },
  {
   "cell_type": "code",
   "execution_count": null,
   "metadata": {},
   "outputs": [],
   "source": [
    "{'Woman1': 'en-US-Standard-F',\n",
    " 'Woman2': 'en-GB-Standard-F',\n",
    " 'Woman3': 'en-US-Standard-E',\n",
    " 'Woman4': 'en-US-Standard-H',\n",
    " 'Man1':'en-US-Standard-D',\n",
    " 'Man2':'en-GB-Standard-B'\n",
    " }"
   ]
  }
 ],
 "metadata": {
  "kernelspec": {
   "display_name": "env",
   "language": "python",
   "name": "python3"
  },
  "language_info": {
   "codemirror_mode": {
    "name": "ipython",
    "version": 3
   },
   "file_extension": ".py",
   "mimetype": "text/x-python",
   "name": "python",
   "nbconvert_exporter": "python",
   "pygments_lexer": "ipython3",
   "version": "3.11.8"
  }
 },
 "nbformat": 4,
 "nbformat_minor": 2
}

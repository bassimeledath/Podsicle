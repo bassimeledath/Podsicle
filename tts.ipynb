{
 "cells": [
  {
   "cell_type": "markdown",
   "metadata": {},
   "source": [
    "## Combine Audio"
   ]
  },
  {
   "cell_type": "code",
   "execution_count": 36,
   "metadata": {},
   "outputs": [],
   "source": [
    "# ! pip install pydub"
   ]
  },
  {
   "cell_type": "markdown",
   "metadata": {},
   "source": [
    "### Basics"
   ]
  },
  {
   "cell_type": "code",
   "execution_count": 34,
   "metadata": {},
   "outputs": [
    {
     "data": {
      "text/plain": [
       "<_io.BufferedRandom name='combined_audio.mp3'>"
      ]
     },
     "execution_count": 34,
     "metadata": {},
     "output_type": "execute_result"
    }
   ],
   "source": [
    "from pydub import AudioSegment\n",
    "\n",
    "# Load audio files\n",
    "voice1_audio = AudioSegment.from_mp3('/Users/sonal/Downloads/output.mp3')\n",
    "voice2_audio = AudioSegment.from_mp3(\"/Users/sonal/Downloads/speech.mp3\")\n",
    "\n",
    "# Combine audio files\n",
    "combined_audio = voice1_audio + voice2_audio\n",
    "\n",
    "# Export the combined audio as an MP3 file\n",
    "combined_audio.export(\"combined_audio.mp3\", format=\"mp3\")\n"
   ]
  },
  {
   "cell_type": "code",
   "execution_count": 5,
   "metadata": {},
   "outputs": [
    {
     "data": {
      "text/plain": [
       "<_io.BufferedRandom name='overlapped_audio.mp3'>"
      ]
     },
     "execution_count": 5,
     "metadata": {},
     "output_type": "execute_result"
    }
   ],
   "source": [
    "# Adjust the timing of the audio clips (overlap them)\n",
    "overlapped_audio = voice1_audio.overlay(voice2_audio, position=0)\n",
    "\n",
    "# Export the overlapped audio as an MP3 file\n",
    "overlapped_audio.export(\"overlapped_audio.mp3\", format=\"mp3\")"
   ]
  },
  {
   "cell_type": "markdown",
   "metadata": {},
   "source": [
    "### Testing concatenation with existing mp3 files"
   ]
  },
  {
   "cell_type": "code",
   "execution_count": 6,
   "metadata": {},
   "outputs": [],
   "source": [
    "import os"
   ]
  },
  {
   "cell_type": "code",
   "execution_count": 30,
   "metadata": {},
   "outputs": [
    {
     "data": {
      "text/plain": [
       "['speech1.mp3', 'speech12.mp3', 'speech123.mp3', 'speech1234.mp3']"
      ]
     },
     "execution_count": 30,
     "metadata": {},
     "output_type": "execute_result"
    }
   ],
   "source": [
    "# os.chdir('example_audio')\n",
    "os.getcwd()\n",
    "files = sorted(os.listdir())\n",
    "files"
   ]
  },
  {
   "cell_type": "code",
   "execution_count": 31,
   "metadata": {},
   "outputs": [],
   "source": [
    "speech = AudioSegment.silent(duration=1000)\n",
    "for file in files: \n",
    "    speech += AudioSegment.from_mp3(file)\n",
    "speech.export('combined_audio.mp3', format='mp3')        "
   ]
  },
  {
   "cell_type": "markdown",
   "metadata": {},
   "source": [
    "## FRAMEWORK FOR GENERATING PODCAST"
   ]
  },
  {
   "cell_type": "code",
   "execution_count": null,
   "metadata": {},
   "outputs": [],
   "source": [
    "def generate_mp3(VOICE1, VOICE2, transcript): \n",
    "    ## voices can be the audio config for each voice\n",
    "    \n",
    "    # Instatiate with a 1second empty clip\n",
    "    speech = AudioSegment.silent(duration=1000) # duration is in milliseconds\n",
    "    \n",
    "    ## FRAMEWORK\n",
    "    For i, (question, answer) in transcript: \n",
    "        i % 2 == 0: \n",
    "            speaker = \"VOICE1\" \n",
    "            text = 'question'\n",
    "        else: \n",
    "            speaker = \"VOICE2\"\n",
    "            text = 'answer'\n",
    "        \n",
    "        speech += # speaker(text)\n",
    "    # EXPORT_PATH = \n",
    "    speech.export('{EXPORT PATH}.mp3', format='mp3')    "
   ]
  },
  {
   "cell_type": "markdown",
   "metadata": {},
   "source": []
  }
 ],
 "metadata": {
  "kernelspec": {
   "display_name": "venv",
   "language": "python",
   "name": "python3"
  },
  "language_info": {
   "codemirror_mode": {
    "name": "ipython",
    "version": 3
   },
   "file_extension": ".py",
   "mimetype": "text/x-python",
   "name": "python",
   "nbconvert_exporter": "python",
   "pygments_lexer": "ipython3",
   "version": "3.10.6"
  }
 },
 "nbformat": 4,
 "nbformat_minor": 2
}
